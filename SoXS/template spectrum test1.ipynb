{
 "cells": [
  {
   "cell_type": "code",
   "execution_count": 34,
   "metadata": {},
   "outputs": [],
   "source": [
    "### Importer les modules ###\n",
    "import time\n",
    "import numpy as np\n",
    "import matplotlib.pyplot as plt"
   ]
  },
  {
   "cell_type": "code",
   "execution_count": 53,
   "metadata": {},
   "outputs": [],
   "source": [
    "### Spectral Lines ###\n",
    "# lambda_obs = (1+z)*lambda\n",
    "# Unit = Ångström\n",
    "# Emission Lines\n",
    "O4 = 1033.82 \n",
    "ly_alpha = 1215.67\n",
    "N5 = 1240.81\n",
    "O1 = [1305.53,6302.046,6365.536]\n",
    "C2 = 1335.31\n",
    "Si4 = 1397.61\n",
    "Si4_plus_O4 = 1399.8\n",
    "C4 = 1549.48\n",
    "He2 = 1640.4\n",
    "O3 = [1665.85,4364.436,4932.603,4960.295,5008.240]\n",
    "Al3 = 1857.4\n",
    "C3 = 1908.734\n",
    "C2 = 2326.0\n",
    "Ne4 = 2439.5\n",
    "Mg2 = 2799.117\n",
    "Ne5 = 3346.79\n",
    "Ne6 = 3426.85\n",
    "O2 = [3727.092,3729.875]\n",
    "He1 = 3889.0\n",
    "S2 = [4072.3,6718.29,6732.67]\n",
    "H_delta = 4102.89\n",
    "H_gamma = 4341.68\n",
    "H_beta = 4862.68\n",
    "\n",
    "N1 = 6529.03\n",
    "N2 = [6549.86,6585.27]\n",
    "H_alpha = 6564.61\n",
    "\n",
    "O = [O4] + O1 + O2 + O3\n",
    "O.sort()\n",
    "\n",
    "C = [C2,C4,C3,C2]\n",
    "\n",
    "H = [H_delta,H_gamma,H_beta,H_alpha]\n",
    "\n",
    "# Absorption Lines\n",
    "ab_K = 3934.777\n",
    "ab_H = 3969.588\n",
    "ab_G = 4305.61\n",
    "ab_Mg = 5167.7\n",
    "ab_Na = 5895.6\n",
    "ab_Ca2 = [8500.36,8544.44,8664.52]\n",
    "\n",
    "# Sky Lines\n",
    "Sky = [5578.5,5894.6,6301.7,7246.0]\n",
    "\n",
    "T_sol = 5778 # Sun\n",
    "\n",
    "h = 6.62606885e-34 # Planck constant\n",
    "c = 2.99792458e+8  # speed of light\n",
    "k = 1.38064852e-23 # Boltzmann constant"
   ]
  },
  {
   "cell_type": "code",
   "execution_count": 128,
   "metadata": {},
   "outputs": [],
   "source": [
    "def planck(wav_aa, T):\n",
    "    wav = wav_aa * 1e-10\n",
    "    a = 2.0*h*c**2\n",
    "    b = h*c/(wav*k*T)\n",
    "    intensity = a/ ( (wav**5) * (np.exp(b) - 1.0) )\n",
    "    return intensity\n",
    "\n",
    "def fct_Gauss(x,esp,var):\n",
    "    return ((1./np.sqrt(var*2*np.pi))*np.exp(-0.5*(x-esp)**2/var))"
   ]
  },
  {
   "cell_type": "code",
   "execution_count": 129,
   "metadata": {},
   "outputs": [],
   "source": [
    "domaine = np.arange(3000, 9000, 1)\n",
    "signal = planck(domaine,T_sol)\n",
    "amp = np.max(signal)*np.random.rand(len(H))\n",
    "amp.sort()\n",
    "for i in range(len(H)):\n",
    "    signal += fct_Gauss(domaine,H[i],1)*amp[i]*0.5"
   ]
  },
  {
   "cell_type": "code",
   "execution_count": 130,
   "metadata": {},
   "outputs": [
    {
     "data": {
      "image/png": "[encoded data removed]",
      "text/plain": [
       "<Figure size 432x288 with 1 Axes>"
      ]
     },
     "metadata": {
      "needs_background": "light"
     },
     "output_type": "display_data"
    }
   ],
   "source": [
    "plt.plot(domaine,planck(domaine, T_sol),'--')\n",
    "plt.plot(domaine,signal)\n",
    "plt.xlabel('wavelength [Å]')\n",
    "plt.show()"
   ]
  },
  {
   "cell_type": "code",
   "execution_count": 131,
   "metadata": {},
   "outputs": [
    {
     "name": "stdout",
     "output_type": "stream",
     "text": [
      "[7.02773570e+11 1.06913123e+12 7.84220837e+12 1.16392340e+13]\n"
     ]
    }
   ],
   "source": [
    "print (amp)"
   ]
  },
  {
   "cell_type": "code",
   "execution_count": null,
   "metadata": {},
   "outputs": [],
   "source": []
  },
  {
   "cell_type": "code",
   "execution_count": null,
   "metadata": {},
   "outputs": [],
   "source": []
  },
  {
   "cell_type": "code",
   "execution_count": null,
   "metadata": {},
   "outputs": [],
   "source": []
  },
  {
   "cell_type": "code",
   "execution_count": 110,
   "metadata": {},
   "outputs": [
    {
     "name": "stdout",
     "output_type": "stream",
     "text": [
      "time: 90298.19316506386\n"
     ]
    }
   ],
   "source": [
    "end = time.time()\n",
    "print ('time:', end - start)"
   ]
  },
  {
   "cell_type": "code",
   "execution_count": null,
   "metadata": {},
   "outputs": [],
   "source": []
  }
 ],
 "metadata": {
  "kernelspec": {
   "display_name": "Python 3",
   "language": "python",
   "name": "python3"
  },
  "language_info": {
   "codemirror_mode": {
    "name": "ipython",
    "version": 3
   },
   "file_extension": ".py",
   "mimetype": "text/x-python",
   "name": "python",
   "nbconvert_exporter": "python",
   "pygments_lexer": "ipython3",
   "version": "3.6.7"
  }
 },
 "nbformat": 4,
 "nbformat_minor": 2
}
