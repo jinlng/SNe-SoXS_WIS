{
 "cells": [
  {
   "cell_type": "markdown",
   "metadata": {},
   "source": [
    "## To plot spectra of the identified Supernovae Type IIn"
   ]
  },
  {
   "cell_type": "code",
   "execution_count": null,
   "metadata": {},
   "outputs": [],
   "source": [
    "import math\n",
    "import numpy as np\n",
    "import pylab\n",
    "\n",
    "\n",
    "filters_directory = '~/Documents/WIS/Type_IIn/Filters'\n",
    "\n"
   ]
  },
  {
   "cell_type": "code",
   "execution_count": null,
   "metadata": {},
   "outputs": [],
   "source": [
    "\"\"\"*******************************************************\n",
    "This module has functions converting distances\n",
    "*****************************************************\"\"\"\n",
    "\n",
    "def DM_to_pc(x):#converts distance modulus to distance in parsec\n",
    "    if isinstance(x, np.ndarray):\n",
    "        psec=np.power(10,x/5+1)\n",
    "    else:\n",
    "        psec=10**(x/5+1)\n",
    "    return psec\n",
    "def pc_to_DM(x):\n",
    "    DM=5*(math.log10(x)-1)\n",
    "    return DM\n",
    "def pc_to_cm(x):#convert pc to cm\n",
    "    cm=x*3.0857e18\n",
    "    return cm\n",
    "def pc_to_m(x):#convert pc to cm\n",
    "    m=x*3.0857e16\n",
    "    return m\n",
    "def cm_to_pc(x):\n",
    "    pc=x/(3.0857e18)\n",
    "    return pc\n",
    "def solar_radius_to_m(x):#convert pc to cm\n",
    "    m=x*6.957e8\n",
    "    return m\n",
    "def solar_radius_to_pc(x):#convert pc to cm\n",
    "    m=x*2.25461e-8\n",
    "    return m\n",
    "def cm_to_solar_radius(x):\n",
    "    sr=x/6.957e10\n",
    "    return sr\n",
    "def solar_radius_to_cm(x):\n",
    "    cm=x*6.957e10\n",
    "    return cm\n"
   ]
  },
  {
   "cell_type": "code",
   "execution_count": null,
   "metadata": {},
   "outputs": [],
   "source": []
  }
 ],
 "metadata": {
  "kernelspec": {
   "display_name": "Python 3",
   "language": "python",
   "name": "python3"
  },
  "language_info": {
   "codemirror_mode": {
    "name": "ipython",
    "version": 3
   },
   "file_extension": ".py",
   "mimetype": "text/x-python",
   "name": "python",
   "nbconvert_exporter": "python",
   "pygments_lexer": "ipython3",
   "version": "3.6.7"
  }
 },
 "nbformat": 4,
 "nbformat_minor": 2
}
