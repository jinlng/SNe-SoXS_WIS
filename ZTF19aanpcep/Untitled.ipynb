{
 "cells": [
  {
   "cell_type": "code",
   "execution_count": 2,
   "metadata": {},
   "outputs": [
    {
     "name": "stdout",
     "output_type": "stream",
     "text": [
      "Filename: ZTF19aanpcep_20190330_APO_v1.fits\n",
      "No.    Name      Ver    Type      Cards   Dimensions   Format\n",
      "  0  PRIMARY       1 PrimaryHDU      71   (3176,)   float64   \n"
     ]
    },
    {
     "data": {
      "text/plain": [
       "SIMPLE  =                    T / Fits standard                                  \n",
       "BITPIX  =                  -64 / Bits per pixel                                 \n",
       "NAXIS   =                    1 / Number of axes                                 \n",
       "NAXIS1  =                 3176 / Axis length                                    \n",
       "EXTEND  =                    T / File may contain extensions                    \n",
       "ORIGIN  = 'NOAO-IRAF FITS Image Kernel July 2003' / FITS file originator        \n",
       "DATE    = '2019-03-30T21:50:20' / Date FITS file was generated                  \n",
       "IRAF-TLM= '2019-03-30T21:50:20' / Time of last modification                     \n",
       "OBSERVAT= 'APO     '                                                            \n",
       "TELESCOP= '3.5m    '                                                            \n",
       "INSTRUME= 'DIS     '                                                            \n",
       "OBJNAME = 'ZTF19aanpcep'                                                        \n",
       "RA      = '15:08:50.84'                                                         \n",
       "DEC     = '40:42:49.06'                                                         \n",
       "AIRMASS =      1.1096191124046                                                  \n",
       "DATE-OBS= '2019-03-30T07:40:52.608'                                             \n",
       "SLITMASK= '1.5 Slit'                                                            \n",
       "RGRATING= 'R300    '                                                            \n",
       "EXPTIME = '2400    '                                                            \n",
       "CDELT1  =                  2.0                                                  \n",
       "CRVAL1  =               3501.0                                                  \n",
       "CRPIX1  =                    1                                                  \n",
       "OBSERVER= 'Melissa L. Graham and Zach Golkhou'                                  \n",
       "REDUCER = 'Melissa L. Graham'                                                   \n",
       "COMMENT DIS contamination, poor performance                                     \n",
       "APNUM1  = '1 1     '                                                            \n",
       "DC-FLAG =                    0                                                  \n",
       "WCSDIM  =                    1                                                  \n",
       "CTYPE1  = 'LINEAR  '                                                            \n",
       "CD1_1   =                   2.                                                  \n",
       "LTM1_1  =                   1.                                                  \n",
       "WAT0_001= 'system=equispec'                                                     \n",
       "WAT1_001= 'wtype=linear label=Wavelength units=angstroms'                       \n",
       "                                                                                \n",
       "                                                                                \n",
       "                                                                                \n",
       "                                                                                \n",
       "                                                                                \n",
       "                                                                                \n",
       "                                                                                \n",
       "                                                                                \n",
       "                                                                                \n",
       "                                                                                \n",
       "                                                                                \n",
       "                                                                                \n",
       "                                                                                \n",
       "                                                                                \n",
       "                                                                                \n",
       "                                                                                \n",
       "                                                                                \n",
       "                                                                                \n",
       "                                                                                \n",
       "                                                                                \n",
       "                                                                                \n",
       "                                                                                \n",
       "                                                                                \n",
       "                                                                                \n",
       "                                                                                \n",
       "                                                                                \n",
       "                                                                                \n",
       "                                                                                \n",
       "                                                                                \n",
       "                                                                                \n",
       "                                                                                \n",
       "                                                                                \n",
       "                                                                                \n",
       "                                                                                \n",
       "                                                                                \n",
       "                                                                                \n",
       "                                                                                \n",
       "                                                                                "
      ]
     },
     "execution_count": 2,
     "metadata": {},
     "output_type": "execute_result"
    }
   ],
   "source": [
    "from astropy.io import fits\n",
    "data = fits.open('ZTF19aanpcep_20190330_APO_v1.fits')\n",
    "data.info()\n",
    "data[0].header\n",
    "#print(data[0].header['DATE-OBS'])\n",
    "#print(data[0].header['UTSTART'])"
   ]
  },
  {
   "cell_type": "code",
   "execution_count": null,
   "metadata": {},
   "outputs": [],
   "source": []
  }
 ],
 "metadata": {
  "kernelspec": {
   "display_name": "Python 3",
   "language": "python",
   "name": "python3"
  },
  "language_info": {
   "codemirror_mode": {
    "name": "ipython",
    "version": 3
   },
   "file_extension": ".py",
   "mimetype": "text/x-python",
   "name": "python",
   "nbconvert_exporter": "python",
   "pygments_lexer": "ipython3",
   "version": "3.6.7"
  }
 },
 "nbformat": 4,
 "nbformat_minor": 2
}
