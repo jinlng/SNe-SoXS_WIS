{
 "cells": [
  {
   "cell_type": "code",
   "execution_count": 65,
   "metadata": {},
   "outputs": [],
   "source": [
    "import numpy as np\n",
    "import matplotlib.pyplot as plt\n",
    "from itertools import product\n",
    "import scipy.integrate as integrate\n",
    "from scipy import signal"
   ]
  },
  {
   "cell_type": "code",
   "execution_count": 2,
   "metadata": {},
   "outputs": [],
   "source": [
    "# Define useful functions in math\n",
    "# Gaussian\n",
    "def fct_Gauss(x,esp,var):\n",
    "    return ((1./np.sqrt(var*2*np.pi))*np.exp(-0.5*(x-esp)**2/var))\n",
    "# Delta\n",
    "def delta(n):\n",
    "    if n == 0:\n",
    "        return 1\n",
    "    else:\n",
    "        return 0"
   ]
  },
  {
   "cell_type": "code",
   "execution_count": 93,
   "metadata": {},
   "outputs": [
    {
     "name": "stdout",
     "output_type": "stream",
     "text": [
      "Amplitude: [0.10721838 0.66948761 0.92606569 0.5033565  0.24808891 0.25647571\n",
      " 0.45484813 0.80311973 0.39844477 0.03068097]\n",
      "Distance: [93 37 51 73 42 42 11 88 43 57]\n"
     ]
    },
    {
     "data": {
      "image/png": "[encoded data removed]",
      "text/plain": [
       "<Figure size 432x288 with 1 Axes>"
      ]
     },
     "metadata": {
      "needs_background": "light"
     },
     "output_type": "display_data"
    }
   ],
   "source": [
    "fi = []\n",
    "n = 100\n",
    "n_pic = 10\n",
    "\n",
    "amp = np.random.rand(n_pic)\n",
    "dis = np.random.randint(n, size=n_pic)\n",
    "\n",
    "for i,j in product(range(n),range(n_pic)):\n",
    "    fi.append(amp[j]*delta(i-dis[j]))\n",
    "\n",
    "print('Amplitude:', amp)\n",
    "print('Distance:', dis)\n",
    "plt.figure()\n",
    "plt.plot(fi)\n",
    "plt.grid(True)"
   ]
  },
  {
   "cell_type": "code",
   "execution_count": 99,
   "metadata": {},
   "outputs": [
    {
     "data": {
      "image/png": "[encoded data removed]",
      "text/plain": [
       "<Figure size 432x288 with 1 Axes>"
      ]
     },
     "metadata": {
      "needs_background": "light"
     },
     "output_type": "display_data"
    }
   ],
   "source": [
    "sigma = 100\n",
    "esperance = len(fi)/2\n",
    "x = np.arange(0,len(fi),1)\n",
    "fo = np.convolve(fi, fct_Gauss(x,esperance,sigma),mode='same')\n",
    "#fo_manual = np.take(fo,x)\n",
    "plt.figure()\n",
    "plt.plot(fo)\n",
    "plt.grid(True)\n",
    "plt.show()"
   ]
  },
  {
   "cell_type": "code",
   "execution_count": 47,
   "metadata": {},
   "outputs": [
    {
     "name": "stdout",
     "output_type": "stream",
     "text": [
      "58.469019187344735\n",
      "58.46901918734473\n"
     ]
    }
   ],
   "source": [
    "result_fi = integrate.trapz(fi)\n",
    "result_fo = integrate.trapz(fo)\n",
    "print(result_fi)\n",
    "print (result_fo)"
   ]
  },
  {
   "cell_type": "code",
   "execution_count": 30,
   "metadata": {},
   "outputs": [
    {
     "name": "stdout",
     "output_type": "stream",
     "text": [
      "0.9702071359953344\n",
      "0.15253142144294082\n"
     ]
    }
   ],
   "source": [
    "print(np.max(fi))\n",
    "print(np.max(fo))"
   ]
  },
  {
   "cell_type": "code",
   "execution_count": null,
   "metadata": {
    "scrolled": true
   },
   "outputs": [],
   "source": [
    "# critère de Rayleigh ￼1.22λ/D\n"
   ]
  },
  {
   "cell_type": "code",
   "execution_count": 66,
   "metadata": {
    "scrolled": true
   },
   "outputs": [
    {
     "name": "stdout",
     "output_type": "stream",
     "text": [
      "[ 39 225 280 296 464 608 782 801 807 953]\n",
      "[ 40 226 281 297 465 609 783 802 954]\n",
      "[0.10609927 0.25640151 0.82870736 0.10163032 0.28377189 0.68730423\n",
      " 0.95087709 0.88058641 0.04478304 0.09950267]\n",
      "[0.01338513 0.03234675 0.10454696 0.00999784 0.0357997  0.08670798\n",
      " 0.11995945 0.10928186 0.01255292]\n"
     ]
    }
   ],
   "source": [
    "pic_i,_ = signal.find_peaks(fi)\n",
    "pic_o,_ = signal.find_peaks(fo)\n",
    "print(pic_i)\n",
    "print(pic_o)\n",
    "prominences_i = signal.peak_prominences (fi, pic_i)[0]\n",
    "prominences_o = signal.peak_prominences (fo, pic_o)[0]\n",
    "print(prominences_i)\n",
    "print(prominences_o)\n",
    "\n",
    "# 1 peak at 807 disappeared after convolution, meaning distance between 2 peaks = 6 is\n",
    "# not enough to resolve two distinct narrow lines.\n",
    "# 2 peaks at 280,296 are still distinguishable, meaning distance = 16 is enough"
   ]
  },
  {
   "cell_type": "code",
   "execution_count": 80,
   "metadata": {},
   "outputs": [
    {
     "data": {
      "text/plain": [
       "(array([133, 253, 291, 381, 537, 696, 793, 881]),)"
      ]
     },
     "execution_count": 80,
     "metadata": {},
     "output_type": "execute_result"
    }
   ],
   "source": [
    "signal.argrelmin(fo)"
   ]
  },
  {
   "cell_type": "code",
   "execution_count": 85,
   "metadata": {},
   "outputs": [
    {
     "name": "stdout",
     "output_type": "stream",
     "text": [
      "0.002823784592756345\n",
      "0.10454695961613834\n",
      "contraste = 37.023702121020584\n"
     ]
    }
   ],
   "source": [
    "print(fo[291])\n",
    "print(fo[281])\n",
    "contraste1 = fo[281]/fo[291] # Contraste local simplifiée \n",
    "print('contraste =',contraste1)"
   ]
  },
  {
   "cell_type": "code",
   "execution_count": 86,
   "metadata": {},
   "outputs": [
    {
     "name": "stdout",
     "output_type": "stream",
     "text": [
      "0.11410895414920172\n",
      "0.002743837018727324\n",
      "contraste = 41.587365929674995\n"
     ]
    }
   ],
   "source": [
    "print(fo[782])\n",
    "print(fo[793])\n",
    "contraste2 = fo[782]/fo[793] # Contraste local simplifiée \n",
    "print('contraste =',contraste2)"
   ]
  },
  {
   "cell_type": "code",
   "execution_count": null,
   "metadata": {},
   "outputs": [],
   "source": []
  },
  {
   "cell_type": "code",
   "execution_count": null,
   "metadata": {},
   "outputs": [],
   "source": []
  },
  {
   "cell_type": "code",
   "execution_count": null,
   "metadata": {},
   "outputs": [],
   "source": []
  }
 ],
 "metadata": {
  "kernelspec": {
   "display_name": "Python 3",
   "language": "python",
   "name": "python3"
  },
  "language_info": {
   "codemirror_mode": {
    "name": "ipython",
    "version": 3
   },
   "file_extension": ".py",
   "mimetype": "text/x-python",
   "name": "python",
   "nbconvert_exporter": "python",
   "pygments_lexer": "ipython3",
   "version": "3.6.7"
  }
 },
 "nbformat": 4,
 "nbformat_minor": 2
}
