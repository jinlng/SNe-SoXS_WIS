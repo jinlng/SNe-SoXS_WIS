{
 "cells": [
  {
   "cell_type": "code",
   "execution_count": 8,
   "metadata": {},
   "outputs": [
    {
     "name": "stdout",
     "output_type": "stream",
     "text": [
      "Filename: ZTF18acwzyor_20190220_WHT_v1.fits\n",
      "No.    Name      Ver    Type      Cards   Dimensions   Format\n",
      "  0  PRIMARY       1 PrimaryHDU     215   (1611,)   float32   \n",
      "2019-02-20\n",
      "23:55:11.797\n"
     ]
    }
   ],
   "source": [
    "from astropy.io import fits\n",
    "data = fits.open('ZTF18acwzyor_20190220_WHT_v1.fits')\n",
    "data.info()\n",
    "data[0].header\n",
    "print(data[0].header['DATE-OBS'])\n",
    "print(data[0].header['UTSTART'])"
   ]
  },
  {
   "cell_type": "code",
   "execution_count": null,
   "metadata": {},
   "outputs": [],
   "source": []
  }
 ],
 "metadata": {
  "kernelspec": {
   "display_name": "Python 3",
   "language": "python",
   "name": "python3"
  },
  "language_info": {
   "codemirror_mode": {
    "name": "ipython",
    "version": 3
   },
   "file_extension": ".py",
   "mimetype": "text/x-python",
   "name": "python",
   "nbconvert_exporter": "python",
   "pygments_lexer": "ipython3",
   "version": "3.6.7"
  }
 },
 "nbformat": 4,
 "nbformat_minor": 2
}
