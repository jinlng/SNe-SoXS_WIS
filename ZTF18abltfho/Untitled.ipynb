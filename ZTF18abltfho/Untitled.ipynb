{
 "cells": [
  {
   "cell_type": "code",
   "execution_count": 2,
   "metadata": {},
   "outputs": [
    {
     "name": "stdout",
     "output_type": "stream",
     "text": [
      "Filename: ZTF18abltfho_20180812_P200_v1.fits\n",
      "No.    Name      Ver    Type      Cards   Dimensions   Format\n",
      "  0  PRIMARY       1 PrimaryHDU      35   (4198,)   float32   \n"
     ]
    },
    {
     "data": {
      "text/plain": [
       "SIMPLE  =                    T / Fits standard                                  \n",
       "BITPIX  =                  -32 / Bits per pixel                                 \n",
       "NAXIS   =                    1 / Number of axes                                 \n",
       "NAXIS1  =                 4198 / Axis length                                    \n",
       "EXTEND  =                    F / File may contain extensions                    \n",
       "ORIGIN  = 'NOAO-IRAF FITS Image Kernel July 2003' / FITS file originator        \n",
       "DATE    = '2018-08-14T22:55:21' / Date FITS file was generated                  \n",
       "IRAF-TLM= '2018-08-14T22:55:41' / Time of last modification                     \n",
       "DC-FLAG =                    0                                                  \n",
       "CRPIX1  =                   1.                                                  \n",
       "CRVAL1  =                3600.                                                  \n",
       "CDELT1  =                1.525                                                  \n",
       "DICHROIC= 'D55     '                                                            \n",
       "HA      = '+04:32:58.9'                                                         \n",
       "ANGLE   = '27 deg 17 min'                                                       \n",
       "OBSERVER= 'Kevin Burdge'                                                        \n",
       "OBSLST  = '21:38:23.0'                                                          \n",
       "OBJECT  = 'ZTF18abltfho'                                                        \n",
       "CASSPA  = '70.00   '                                                            \n",
       "PARALLAC= '72.71   '                                                            \n",
       "HOURANG = 'W04:32:58.9'                                                         \n",
       "CCDTEMP = '161.77  '                                                            \n",
       "LAMPS   = '0000000 '                                                            \n",
       "RA      = '17:04:45.67'                                                         \n",
       "GRATING = '600/4000'                                                            \n",
       "APERTURE= '1.5     '                                                            \n",
       "TELFOCUS= '39.82 mm'                                                            \n",
       "AIRMASS =                1.711                                                  \n",
       "DEC     = '+38:14:14.8'                                                         \n",
       "UTSHUT  = '2018-08-12T08:02:56.157'                                             \n",
       "EXPTIME =               1200.0                                                  \n",
       "                                                                                \n",
       "                                                                                \n",
       "                                                                                \n",
       "                                                                                "
      ]
     },
     "execution_count": 2,
     "metadata": {},
     "output_type": "execute_result"
    }
   ],
   "source": [
    "from astropy.io import fits\n",
    "data = fits.open('ZTF18abltfho_20180812_P200_v1.fits')\n",
    "data.info()\n",
    "data[0].header\n",
    "#print(data[0].header['DATE-OBS'])\n",
    "#print(data[0].header['UTSTART'])"
   ]
  },
  {
   "cell_type": "code",
   "execution_count": null,
   "metadata": {},
   "outputs": [],
   "source": []
  }
 ],
 "metadata": {
  "kernelspec": {
   "display_name": "Python 3",
   "language": "python",
   "name": "python3"
  },
  "language_info": {
   "codemirror_mode": {
    "name": "ipython",
    "version": 3
   },
   "file_extension": ".py",
   "mimetype": "text/x-python",
   "name": "python",
   "nbconvert_exporter": "python",
   "pygments_lexer": "ipython3",
   "version": "3.6.7"
  }
 },
 "nbformat": 4,
 "nbformat_minor": 2
}
