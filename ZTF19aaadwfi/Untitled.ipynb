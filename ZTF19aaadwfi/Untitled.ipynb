{
 "cells": [
  {
   "cell_type": "code",
   "execution_count": 9,
   "metadata": {
    "scrolled": false
   },
   "outputs": [
    {
     "name": "stdout",
     "output_type": "stream",
     "text": [
      "Filename: ZTF19aaadwfi_20190212_P200_v1.fits\n",
      "No.    Name      Ver    Type      Cards   Dimensions   Format\n",
      "  0  PRIMARY       1 PrimaryHDU      35   (4395,)   float32   \n"
     ]
    },
    {
     "data": {
      "text/plain": [
       "SIMPLE  =                    T / Fits standard                                  \n",
       "BITPIX  =                  -32 / Bits per pixel                                 \n",
       "NAXIS   =                    1 / Number of axes                                 \n",
       "NAXIS1  =                 4395 / Axis length                                    \n",
       "EXTEND  =                    F / File may contain extensions                    \n",
       "ORIGIN  = 'NOAO-IRAF FITS Image Kernel July 2003' / FITS file originator        \n",
       "DATE    = '2019-02-12T20:57:30' / Date FITS file was generated                  \n",
       "IRAF-TLM= '2019-02-12T20:57:50' / Time of last modification                     \n",
       "DC-FLAG =                    0                                                  \n",
       "CRPIX1  =                   1.                                                  \n",
       "CRVAL1  =               3300.0                                                  \n",
       "CDELT1  =                1.525                                                  \n",
       "DICHROIC= 'D55     '                                                            \n",
       "HA      = '-02:09:42.3'                                                         \n",
       "ANGLE   = '27 deg 17 min'                                                       \n",
       "OBSERVER= 'A Dugas '                                                            \n",
       "OBSLST  = '08:29:58.0'                                                          \n",
       "OBJECT  = 'ZTF19aaadwfi'                                                        \n",
       "CASSPA  = '-109.00 '                                                            \n",
       "PARALLAC= '250.72  '                                                            \n",
       "HOURANG = 'E02:09:42.3'                                                         \n",
       "CCDTEMP = '161.73  '                                                            \n",
       "LAMPS   = '0000000 '                                                            \n",
       "RA      = '10:38:31.02'                                                         \n",
       "GRATING = '600/4000'                                                            \n",
       "APERTURE= '1.5     '                                                            \n",
       "TELFOCUS= '45.70 mm'                                                            \n",
       "AIRMASS =                1.136                                                  \n",
       "DEC     = '+48:16:20.7'                                                         \n",
       "UTSHUT  = '2019-02-12T06:49:17.094'                                             \n",
       "EXPTIME =                600.0                                                  \n",
       "                                                                                \n",
       "                                                                                \n",
       "                                                                                \n",
       "                                                                                "
      ]
     },
     "execution_count": 9,
     "metadata": {},
     "output_type": "execute_result"
    }
   ],
   "source": [
    "from astropy.io import fits\n",
    "data = fits.open('ZTF19aaadwfi_20190212_P200_v1.fits')\n",
    "data.info()\n",
    "data[0].header\n",
    "#print(data[0].header['DATEOBS'])\n",
    "#print(data[0].header['UTSTART'])"
   ]
  },
  {
   "cell_type": "code",
   "execution_count": null,
   "metadata": {},
   "outputs": [],
   "source": []
  }
 ],
 "metadata": {
  "kernelspec": {
   "display_name": "Python 3",
   "language": "python",
   "name": "python3"
  },
  "language_info": {
   "codemirror_mode": {
    "name": "ipython",
    "version": 3
   },
   "file_extension": ".py",
   "mimetype": "text/x-python",
   "name": "python",
   "nbconvert_exporter": "python",
   "pygments_lexer": "ipython3",
   "version": "3.6.7"
  }
 },
 "nbformat": 4,
 "nbformat_minor": 2
}
