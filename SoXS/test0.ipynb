{
 "cells": [
  {
   "cell_type": "code",
   "execution_count": 3,
   "metadata": {},
   "outputs": [],
   "source": [
    "### Importer les modules ###\n",
    "import os\n",
    "import glob\n",
    "import scipy\n",
    "import pylab\n",
    "import tables\n",
    "import pyphot\n",
    "import numpy as np\n",
    "from astropy.io import ascii\n",
    "import matplotlib.pyplot as plt\n",
    "\n",
    "from scipy import signal\n",
    "from scipy.fftpack import fft, fftshift\n"
   ]
  },
  {
   "cell_type": "markdown",
   "metadata": {},
   "source": [
    "http://www.astro.caltech.edu/sedm/Efficiency.html\n",
    "### Définir les constantes ###\n",
    "h = 6.62606885e-27  #erg s\n",
    "hc = 1.98782e-8  #erg A\n",
    "\n",
    "### Les paramètres données ###\n",
    "A_tel = 18  #cm^2, area of the primary mirror accounting for the secondary obstruction\n",
    "A_tel_eff = 14.742  # = A_tel*0.91*0.9, reflectivity 91% for the primary and 90% for the secondary\n",
    "\n",
    "### Optical Design Info ###\n"
   ]
  },
  {
   "cell_type": "markdown",
   "metadata": {},
   "source": [
    "# Optical Design Info\n",
    "R ~ 4500, with a 1\" slit\n",
    "350 - 2000nm band\n",
    "\n",
    "## UV-VIS\n",
    "Collimator Focal Ratio = 6.5 <br>\n",
    "COllimator Beam diameter = 45 mm <br>\n",
    "Spectral range = 350-850 nm <br>\n",
    "Resolution (1 arcsec slit) = 3500-7000 <br>\n",
    "Slit scale = 110 μm/\" <br>\n",
    "Foreseen slit widths = 0.5\" − 1.0\" − 1.5\" − 5\" <br>\n",
    "Slit height = 12\" <br>\n",
    "Camera Output Focal Ratio = 3.11 <br>\n",
    "Detector = Teledyne e2V CCD44-82 <br>\n",
    "Detector Scale = ∼ 53 μm/\" <br>\n",
    "Main Disperser = Four custom ion etched gratings <br>\n",
    "Working temperature = Ambient (-5°C − +25°C) <br>\n",
    "\n",
    "\n",
    "\n",
    "\n"
   ]
  },
  {
   "cell_type": "code",
   "execution_count": null,
   "metadata": {},
   "outputs": [],
   "source": []
  },
  {
   "cell_type": "code",
   "execution_count": null,
   "metadata": {},
   "outputs": [],
   "source": []
  },
  {
   "cell_type": "code",
   "execution_count": 98,
   "metadata": {},
   "outputs": [],
   "source": [
    "### Average resolution ###\n",
    "R_u = 4995\n",
    "R_g = 4634\n",
    "R_r = 4633\n",
    "R_i = 4601\n",
    "# sigma\n",
    "dR_u = 1059\n",
    "dR_g = 890\n",
    "dR_r = 909\n",
    "dR_i = 878\n",
    "\n",
    "# delta lambda - limit of resolution\n",
    "\n",
    "N_pas = 100000\n",
    "\n",
    "### wavelength range ### (nm)\n",
    "u = np.linspace(350.0,440.0,N_pas)\n",
    "g = np.linspace(427.0,545.0,N_pas)\n",
    "r = np.linspace(522.0,680.0,N_pas)\n",
    "i = np.linspace(656.0,850.0,N_pas)\n",
    "\n",
    "### Throughput ###\n",
    "# Total expected\n",
    "Thr_u = 0.741\n",
    "Thr_g = 0.737\n",
    "Thr_r = 0.749\n",
    "Thr_i = 0.726\n",
    "# w/ contingency at 2% to all estimates\n",
    "thr_u = 0.643\n",
    "thr_g = 0.627\n",
    "thr_r = 0.663\n",
    "thr_i = 0.630\n",
    "\n",
    "# Line Density (lines/mm) -> (lines/nm)\n",
    "ld_u = 3380*10**-6\n",
    "ld_g = 2655*10**-6\n",
    "ld_r = 2070*10**-6\n",
    "ld_i = 1660*10**-6\n",
    "\n",
    "# Line Spacing d = Line Density ^-1\n",
    "d_u = ld_u**-1\n",
    "d_g = ld_g**-1\n",
    "d_r = ld_r**-1\n",
    "d_i = ld_i**-1\n",
    "\n",
    "# Feed Angle\n",
    "alpha = 41*np.pi/180. # ◦ -> rad \n",
    "\n",
    "# lambda Littrow (nm)\n",
    "ll_u = 388.2\n",
    "ll_g = 494.2\n",
    "ll_r = 633.9\n",
    "ll_i = 790.4\n",
    "\n",
    "# pixel (m)\n",
    "pix_x = 15*10**-6\n",
    "pix_y = 15*10**-6"
   ]
  },
  {
   "cell_type": "code",
   "execution_count": 103,
   "metadata": {},
   "outputs": [
    {
     "data": {
      "text/plain": [
       "[<matplotlib.lines.Line2D at 0x7f7992a1f7b8>]"
      ]
     },
     "execution_count": 103,
     "metadata": {},
     "output_type": "execute_result"
    },
    {
     "data": {
      "image/png": "[encoded data removed]",
      "text/plain": [
       "<Figure size 432x288 with 1 Axes>"
      ]
     },
     "metadata": {
      "needs_background": "light"
     },
     "output_type": "display_data"
    }
   ],
   "source": [
    "# disspersion angle (m=1)\n",
    "da_u = np.arcsin(np.sin(alpha) - u*ld_u)\n",
    "da_g = np.arcsin(np.sin(alpha) - g*ld_g)\n",
    "da_r = np.arcsin(np.sin(alpha) - r*ld_r)\n",
    "da_i = np.arcsin(np.sin(alpha) - i*ld_i)\n",
    "plt.plot(u,da_u)\n",
    "plt.plot(g,da_g)\n",
    "plt.plot(r,da_r)\n",
    "plt.plot(i,da_i)"
   ]
  },
  {
   "cell_type": "code",
   "execution_count": null,
   "metadata": {},
   "outputs": [],
   "source": []
  },
  {
   "cell_type": "code",
   "execution_count": null,
   "metadata": {},
   "outputs": [],
   "source": []
  },
  {
   "cell_type": "code",
   "execution_count": 54,
   "metadata": {},
   "outputs": [
    {
     "data": {
      "image/png": "[encoded data removed]",
      "text/plain": [
       "<Figure size 432x288 with 1 Axes>"
      ]
     },
     "metadata": {
      "needs_background": "light"
     },
     "output_type": "display_data"
    }
   ],
   "source": [
    "# Générer un signal gaussian\n",
    "# M = np.size(u)+np.size(g)+np.size(r)+np.size(i)\n",
    "# x = np.linspace(350.0,850.0,M)\n",
    "Gauss = signal.gaussian(N_pas, std=5000, sym=False)\n",
    "plt.plot(u,Gauss,'b')\n",
    "plt.plot(g,Gauss,'g')\n",
    "plt.plot(r,Gauss,'r')\n",
    "plt.plot(i,Gauss,'orange')\n",
    "plt.show()"
   ]
  },
  {
   "cell_type": "code",
   "execution_count": null,
   "metadata": {},
   "outputs": [],
   "source": []
  },
  {
   "cell_type": "markdown",
   "metadata": {},
   "source": [
    "# slow af\n",
    "from random import gauss\n",
    "mean = (850+350)*0.5\n",
    "stdDev = 500\n",
    "Gauss_1 = [gauss(mean,stdDev) for i in range(M)]\n",
    "n, bins, patches = plt.hist(Gauss_1, M, facecolor='green', alpha=0.5)\n",
    "#plt.plot(x,Gauss_1)\n",
    "#plt.xlim(350,850)\n",
    "plt.show()"
   ]
  },
  {
   "cell_type": "code",
   "execution_count": null,
   "metadata": {},
   "outputs": [],
   "source": [
    "# Read and save ascii files\n",
    "input_data = ascii.read(\".ascii\")"
   ]
  },
  {
   "cell_type": "code",
   "execution_count": null,
   "metadata": {},
   "outputs": [],
   "source": [
    "# binning code from Rachel\n",
    "lamda = \n",
    "lamda_1st = lamda[0]\n",
    "lamda_last = lamda[-1]\n",
    "def bin_spectra(spectrum, resolution):\n",
    "    n_bin = math.floor((lamda_last - lamda_1st)/resolution)\n",
    "    \n",
    "    #performs the data rebinning by taking the beam of the fluc value inside the bin\n",
    "    stat, bin_edge, inde = scipy.stats.binned_statistic(lamda, flux_unred, statistic='mean', \n",
    "                                                        bins = n_bin)\n",
    "    \n",
    "    \n",
    "    bin_wavelength = [ (bin_edge[i]+ bin_edge[i+1])/2 for i in range(len(bin_edge)-1) ]\n",
    "    bin_spectra = Table()\n",
    "    bin_spectra['bin_wl'] = bin_wavelength\n",
    "    bin_spectra['bin_unred_flux'] = stat\n",
    "    \n",
    "    return bin_spectra"
   ]
  }
 ],
 "metadata": {
  "kernelspec": {
   "display_name": "Python 3",
   "language": "python",
   "name": "python3"
  },
  "language_info": {
   "codemirror_mode": {
    "name": "ipython",
    "version": 3
   },
   "file_extension": ".py",
   "mimetype": "text/x-python",
   "name": "python",
   "nbconvert_exporter": "python",
   "pygments_lexer": "ipython3",
   "version": "3.6.7"
  }
 },
 "nbformat": 4,
 "nbformat_minor": 2
}
