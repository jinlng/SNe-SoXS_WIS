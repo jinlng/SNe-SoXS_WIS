{
 "cells": [
  {
   "cell_type": "code",
   "execution_count": 3,
   "metadata": {},
   "outputs": [],
   "source": [
    "import io\n",
    "import sys\n",
    "import numpy as np\n",
    "from astropy.io import ascii\n",
    "from astropy.table import Table, Column, MaskedColumn"
   ]
  },
  {
   "cell_type": "code",
   "execution_count": 11,
   "metadata": {},
   "outputs": [
    {
     "name": "stdout",
     "output_type": "stream",
     "text": [
      "a b c\n",
      "0 0 0\n",
      "1 1 1\n",
      "2 2 2\n",
      "3 3 3\n",
      "4 4 4\n",
      "5 5 5\n",
      "6 6 6\n",
      "7 7 7\n",
      "8 8 8\n",
      "9 9 9\n",
      " a   b   c \n",
      "--- --- ---\n",
      "  0   0   0\n",
      "  1   1   1\n",
      "  2   2   2\n",
      "  3   3   3\n",
      "  4   4   4\n",
      "  5   5   5\n",
      "  6   6   6\n",
      "  7   7   7\n",
      "  8   8   8\n",
      "  9   9   9\n"
     ]
    }
   ],
   "source": [
    "data1 = []\n",
    "data2 = []\n",
    "data3 = []\n",
    "for i in range(10):\n",
    "    data1.append(i)\n",
    "for i in range(10):\n",
    "    data2.append(i)\n",
    "for i in range(10):\n",
    "    data3.append(i)\n",
    "    \n",
    "data = Table({'a':data1,\n",
    "             'b':data2,\n",
    "             'c':data3})\n",
    "ascii.write(data)\n",
    "print(data)"
   ]
  },
  {
   "cell_type": "code",
   "execution_count": null,
   "metadata": {},
   "outputs": [],
   "source": []
  }
 ],
 "metadata": {
  "kernelspec": {
   "display_name": "Python 3",
   "language": "python",
   "name": "python3"
  },
  "language_info": {
   "codemirror_mode": {
    "name": "ipython",
    "version": 3
   },
   "file_extension": ".py",
   "mimetype": "text/x-python",
   "name": "python",
   "nbconvert_exporter": "python",
   "pygments_lexer": "ipython3",
   "version": "3.6.7"
  }
 },
 "nbformat": 4,
 "nbformat_minor": 2
}
