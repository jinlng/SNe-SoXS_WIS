{
 "cells": [
  {
   "cell_type": "code",
   "execution_count": 1,
   "metadata": {},
   "outputs": [
    {
     "name": "stdout",
     "output_type": "stream",
     "text": [
      "********************************************************\n",
      "now it's the single-spectra objects' turn\n",
      "********************************************************\n",
      "path is /home/jinlng/test_dir/Type_IIn/ZTF18abqrlpv_data_Marshal.txt\n"
     ]
    },
    {
     "ename": "FileNotFoundError",
     "evalue": "[Errno 2] No such file or directory: '/home/jinlng/test_dir/Type_IIn/ZTF18abqrlpv_data_Marshal.txt'",
     "output_type": "error",
     "traceback": [
      "\u001b[0;31m---------------------------------------------------------------------------\u001b[0m",
      "\u001b[0;31mFileNotFoundError\u001b[0m                         Traceback (most recent call last)",
      "\u001b[0;32m<ipython-input-1-5170fd47e8ee>\u001b[0m in \u001b[0;36m<module>\u001b[0;34m\u001b[0m\n\u001b[1;32m     28\u001b[0m data_dicts = Read_data.read_data_Marshall_simple(\n\u001b[1;32m     29\u001b[0m     \u001b[0;34m'/home/jinlng/test_dir/Type_IIn/ZTF18abqrlpv_data_Marshal.txt'\u001b[0m\u001b[0;34m,\u001b[0m \u001b[0;31m# not good to go\u001b[0m\u001b[0;34m\u001b[0m\u001b[0;34m\u001b[0m\u001b[0m\n\u001b[0;32m---> 30\u001b[0;31m     filters_directory=filters_directory)\n\u001b[0m\u001b[1;32m     31\u001b[0m \u001b[0;34m\u001b[0m\u001b[0m\n\u001b[1;32m     32\u001b[0m \u001b[0mP48_r_array\u001b[0m \u001b[0;34m=\u001b[0m \u001b[0mnp\u001b[0m\u001b[0;34m.\u001b[0m\u001b[0mzeros\u001b[0m\u001b[0;34m(\u001b[0m\u001b[0;34m(\u001b[0m\u001b[0mnp\u001b[0m\u001b[0;34m.\u001b[0m\u001b[0mshape\u001b[0m\u001b[0;34m(\u001b[0m\u001b[0mdata_dicts\u001b[0m\u001b[0;34m[\u001b[0m\u001b[0;34m'jd'\u001b[0m\u001b[0;34m]\u001b[0m\u001b[0;34m[\u001b[0m\u001b[0mdata_dicts\u001b[0m\u001b[0;34m[\u001b[0m\u001b[0;34m'filter'\u001b[0m\u001b[0;34m]\u001b[0m\u001b[0;34m==\u001b[0m\u001b[0;34m'r_p48'\u001b[0m\u001b[0;34m]\u001b[0m\u001b[0;34m)\u001b[0m\u001b[0;34m[\u001b[0m\u001b[0;36m0\u001b[0m\u001b[0;34m]\u001b[0m\u001b[0;34m,\u001b[0m\u001b[0;36m2\u001b[0m\u001b[0;34m)\u001b[0m\u001b[0;34m)\u001b[0m\u001b[0;34m\u001b[0m\u001b[0;34m\u001b[0m\u001b[0m\n",
      "\u001b[0;32m~/test_dir/Type_IIn/Read_data.py\u001b[0m in \u001b[0;36mread_data_Marshall_simple\u001b[0;34m(path, plot_all, no99, filters_directory)\u001b[0m\n\u001b[1;32m    564\u001b[0m     \u001b[0mprint\u001b[0m\u001b[0;34m(\u001b[0m\u001b[0;34m'path is'\u001b[0m\u001b[0;34m,\u001b[0m\u001b[0mpath\u001b[0m\u001b[0;34m)\u001b[0m\u001b[0;34m\u001b[0m\u001b[0;34m\u001b[0m\u001b[0m\n\u001b[1;32m    565\u001b[0m \u001b[0;34m\u001b[0m\u001b[0m\n\u001b[0;32m--> 566\u001b[0;31m     \u001b[0;32mwith\u001b[0m \u001b[0mopen\u001b[0m\u001b[0;34m(\u001b[0m\u001b[0mpath\u001b[0m\u001b[0;34m)\u001b[0m \u001b[0;32mas\u001b[0m \u001b[0mcsvfile\u001b[0m\u001b[0;34m:\u001b[0m\u001b[0;34m\u001b[0m\u001b[0;34m\u001b[0m\u001b[0m\n\u001b[0m\u001b[1;32m    567\u001b[0m             \u001b[0mreadCSV\u001b[0m \u001b[0;34m=\u001b[0m \u001b[0mcsv\u001b[0m\u001b[0;34m.\u001b[0m\u001b[0mreader\u001b[0m\u001b[0;34m(\u001b[0m\u001b[0mcsvfile\u001b[0m\u001b[0;34m,\u001b[0m \u001b[0mdelimiter\u001b[0m\u001b[0;34m=\u001b[0m\u001b[0;34m','\u001b[0m\u001b[0;34m,\u001b[0m\u001b[0mskipinitialspace\u001b[0m\u001b[0;34m=\u001b[0m\u001b[0;32mTrue\u001b[0m\u001b[0;34m)\u001b[0m\u001b[0;34m\u001b[0m\u001b[0;34m\u001b[0m\u001b[0m\n\u001b[1;32m    568\u001b[0m             \u001b[0mheaders\u001b[0m \u001b[0;34m=\u001b[0m \u001b[0mnext\u001b[0m\u001b[0;34m(\u001b[0m\u001b[0mreadCSV\u001b[0m\u001b[0;34m)\u001b[0m\u001b[0;31m#skip the header\u001b[0m\u001b[0;34m\u001b[0m\u001b[0;34m\u001b[0m\u001b[0m\n",
      "\u001b[0;31mFileNotFoundError\u001b[0m: [Errno 2] No such file or directory: '/home/jinlng/test_dir/Type_IIn/ZTF18abqrlpv_data_Marshal.txt'"
     ]
    }
   ],
   "source": [
    "\"\"\"********************************************************\n",
    "now it's the single-spectra objects' turn\n",
    "********************************************************\"\"\"\n",
    "__author__ = 'Jingyi'\n",
    "\n",
    "print(__doc__)\n",
    "\n",
    "import distances_conversions\n",
    "import Read_data\n",
    "import class_spectrum\n",
    "import numpy as np\n",
    "import pylab\n",
    "import pdb\n",
    "import pyphot\n",
    "from scipy import signal\n",
    "import matplotlib.pyplot as plt\n",
    "\n",
    "filters_directory='/home/jinlng/test_dir/Type_IIn/Filters/Filters'\n",
    "\n",
    "### ZTF18abqrlpv ###\n",
    "z = 0.2104     # checked\n",
    "linesx = {r'$H_{\\alpha}$': 6563, r'$H_{\\beta}$': 4861, r'$H_{\\gamma}$': 4341}\n",
    "    #, r'$H_{\\delta}$': 4102,r'$H_{\\epsilon}$': 3970, r'$H_{\\zeta}$': 3889, r'$H_{\\eta}$': 3835}\n",
    "distance_modulus = 40.10       # checked\n",
    "distance_pc = distances_conversions.DM_to_pc(distance_modulus)   # sn distance in pc\n",
    "EBV = 0.055386      # checked\n",
    "explosion_date = 2458311.479397956 # checked\n",
    "data_dicts = Read_data.read_data_Marshall_simple(\n",
    "    '/home/jinlng/test_dir/Type_IIn/ZTF18abqrlpv_data_Marshal.txt', # not good to go\n",
    "    filters_directory=filters_directory)\n",
    "\n",
    "P48_r_array = np.zeros((np.shape(data_dicts['jd'][data_dicts['filter']=='r_p48'])[0],2))\n",
    "P48_r_array[:,0] = data_dicts['jd'][data_dicts['filter']=='r_p48']\n",
    "P48_r_array[:,1] = data_dicts['flux'][data_dicts['filter']=='r_p48']\n",
    "\n",
    "### Calibration ###\n",
    "### the only spectra ###\n",
    "# time not clear\n",
    "spectra = class_spectrum.spectrum(path_to_data=\n",
    "    '/home/jinlng/test_dir/Type_IIn/ZTF18abgrlpv_20180717_P200_v1.ascii',     # good to go\n",
    "    instrument='P200',skiprows=0,time='2018-07-17T09:34:39.510',time_format='utc',show=False)    # good to go\n",
    "spectra_cal = spectra.calibrate(array_of_calibrating_data=P48_r_array,\n",
    "    filter_family='ztf_p48',filter_name='r_p48',filters_directory=filters_directory)\n",
    "\n",
    "\n",
    "print('there are {0} spectra_cal in total'.format(len(spectra_cal)))\n",
    "\n",
    "\n",
    "phases = ['+'+str(round(spectra.date_jd()-explosion_date,2)) ]\n",
    "annotations = [(9300,-13.9)]\n",
    "\n",
    "### smoothing ###\n",
    "signal_smooth = signal.savgol_filter(spectra_cal[:,1],53,7)\n",
    "\n",
    "#plot spectra\n",
    "fig = plt.figure()\n",
    "plt.plot(spectra[:, 0], np.log10(spectra[:, 1]),\n",
    "               label=spectra.instrument + ', ' + spectra.date_utc_hms(), alpha=0.7)\n",
    "# plot smoothed spectra\n",
    "plt.plot(spectra_cal[:, 0], np.log10(signal_smooth), '-k', alpha=0.7)\n",
    "\n",
    "for i,j in linesx.items():\n",
    "    plt.axvline(j*(z+1),linestyle='-.',color='grey')\n",
    "ax = plt.gca()\n",
    "handles, labels = ax.get_legend_handles_labels()\n",
    "for i,j in enumerate(annotations):\n",
    "    ax.annotate(phases,xy = (annotations[i]))\n",
    "plt.title('ZTF18abqrlpv')\n",
    "#pylab.ylim(-16.5,-9.7)\n",
    "plt.xlim(3000,11000)\n",
    "plt.ylabel(r'$\\rm{log(flux [erg/sec/cm^2/\\AA ])}$')\n",
    "plt.xlabel(r'wavelength ($\\AA$)')\n",
    "plt.grid()\n",
    "plt.show()\n"
   ]
  },
  {
   "cell_type": "code",
   "execution_count": null,
   "metadata": {},
   "outputs": [],
   "source": []
  }
 ],
 "metadata": {
  "kernelspec": {
   "display_name": "Python 3",
   "language": "python",
   "name": "python3"
  },
  "language_info": {
   "codemirror_mode": {
    "name": "ipython",
    "version": 3
   },
   "file_extension": ".py",
   "mimetype": "text/x-python",
   "name": "python",
   "nbconvert_exporter": "python",
   "pygments_lexer": "ipython3",
   "version": "3.6.7"
  }
 },
 "nbformat": 4,
 "nbformat_minor": 2
}
